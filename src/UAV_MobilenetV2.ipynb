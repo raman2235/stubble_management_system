{
  "nbformat": 4,
  "nbformat_minor": 0,
  "metadata": {
    "colab": {
      "provenance": [],
      "gpuType": "T4"
    },
    "kernelspec": {
      "name": "python3",
      "display_name": "Python 3"
    },
    "language_info": {
      "name": "python"
    },
    "accelerator": "GPU"
  },
  "cells": [
    {
      "cell_type": "code",
      "execution_count": 1,
      "metadata": {
        "colab": {
          "base_uri": "https://localhost:8080/"
        },
        "id": "Eg8iabaCeqLm",
        "outputId": "a64bdabc-d712-446d-c29e-d84864eea42e"
      },
      "outputs": [
        {
          "output_type": "stream",
          "name": "stdout",
          "text": [
            "Mounted at /content/drive\n"
          ]
        }
      ],
      "source": [
        "from google.colab import drive\n",
        "drive.mount('/content/drive')"
      ]
    },
    {
      "cell_type": "code",
      "source": [
        "# STEP 2: Extract archive (8).zip\n",
        "import zipfile\n",
        "import os\n",
        "\n",
        "zip_path = \"/content/drive/MyDrive/archive (8).zip\"  # Change if different\n",
        "extract_to = \"/content/dataset\"\n",
        "\n",
        "# Extract\n",
        "with zipfile.ZipFile(zip_path, 'r') as zip_ref:\n",
        "    zip_ref.extractall(extract_to)\n",
        "\n",
        "# Confirm structure\n",
        "os.listdir(extract_to)\n"
      ],
      "metadata": {
        "colab": {
          "base_uri": "https://localhost:8080/"
        },
        "id": "r_5KMCF1vqrF",
        "outputId": "ec97ef80-9dd7-454b-98dd-d4a7d5c78ee4"
      },
      "execution_count": 2,
      "outputs": [
        {
          "output_type": "execute_result",
          "data": {
            "text/plain": [
              "['Data']"
            ]
          },
          "metadata": {},
          "execution_count": 2
        }
      ]
    },
    {
      "cell_type": "code",
      "source": [
        "# STEP 3: Set Paths to Train/Test Folders\n",
        "train_dir = \"/content/dataset/Data/Train_Data\"\n",
        "test_dir = \"/content/dataset/Data/Test_Data\"\n",
        "\n",
        "img_height, img_width = 150, 150\n",
        "batch_size = 32\n",
        "epochs = 25\n",
        "\n",
        "num_classes = len(os.listdir(train_dir))\n"
      ],
      "metadata": {
        "id": "Z32x3zMuvvBF"
      },
      "execution_count": 3,
      "outputs": []
    },
    {
      "cell_type": "code",
      "source": [
        "import os\n",
        "import numpy as np\n",
        "import matplotlib.pyplot as plt\n",
        "from PIL import Image, UnidentifiedImageError\n",
        "from tensorflow.keras.preprocessing.image import ImageDataGenerator\n",
        "from tensorflow.keras.applications import MobileNetV2\n",
        "from tensorflow.keras.models import Model\n",
        "from tensorflow.keras.layers import GlobalAveragePooling2D, Dense, Dropout\n",
        "from tensorflow.keras.callbacks import EarlyStopping, ModelCheckpoint\n",
        "from tensorflow.keras.optimizers import Adam\n",
        "from sklearn.metrics import classification_report, confusion_matrix, accuracy_score, precision_score, recall_score, f1_score\n",
        "import seaborn as sns\n",
        "import pandas as pd\n",
        "\n",
        "# === Step 1: Remove corrupt images\n",
        "def clean_images(folder):\n",
        "    bad = 0\n",
        "    for root, dirs, files in os.walk(folder):\n",
        "        for file in files:\n",
        "            path = os.path.join(root, file)\n",
        "            try:\n",
        "                img = Image.open(path)\n",
        "                img.verify()\n",
        "            except (UnidentifiedImageError, OSError, IOError):\n",
        "                print(\"Removing:\", path)\n",
        "                os.remove(path)\n",
        "                bad += 1\n",
        "    print(f\"✅ Removed {bad} bad images from {folder}\")\n",
        "\n",
        "# Clean both train and test directories\n",
        "clean_images(\"/content/dataset/Data/Train_Data\")\n",
        "clean_images(\"/content/dataset/Data/Test_Data\")\n"
      ],
      "metadata": {
        "colab": {
          "base_uri": "https://localhost:8080/"
        },
        "id": "ksBw9L3ktFG1",
        "outputId": "8f305799-d98b-433c-d8a6-31f3b28e4798"
      },
      "execution_count": 4,
      "outputs": [
        {
          "output_type": "stream",
          "name": "stdout",
          "text": [
            "Removing: /content/dataset/Data/Train_Data/Fire/F_781.jpg\n",
            "Removing: /content/dataset/Data/Train_Data/Fire/F_69.jpg\n",
            "Removing: /content/dataset/Data/Train_Data/Fire/F_81.jpg\n",
            "Removing: /content/dataset/Data/Train_Data/Fire/F_770.jpg\n",
            "Removing: /content/dataset/Data/Train_Data/Fire/F_938.jpg\n",
            "Removing: /content/dataset/Data/Train_Data/Fire/F_600.jpg\n",
            "Removing: /content/dataset/Data/Train_Data/Fire/F_677.jpg\n",
            "Removing: /content/dataset/Data/Train_Data/Fire/F_759.jpg\n",
            "Removing: /content/dataset/Data/Train_Data/Fire/F_909.jpg\n",
            "Removing: /content/dataset/Data/Train_Data/Fire/F_875.jpg\n",
            "Removing: /content/dataset/Data/Train_Data/Fire/F_779.jpg\n",
            "Removing: /content/dataset/Data/Train_Data/Fire/F_590.jpg\n",
            "Removing: /content/dataset/Data/Train_Data/Fire/F_937.jpg\n",
            "Removing: /content/dataset/Data/Train_Data/Fire/F_743.jpg\n",
            "Removing: /content/dataset/Data/Train_Data/Fire/F_82.jpg\n",
            "Removing: /content/dataset/Data/Train_Data/Fire/F_758.jpg\n",
            "Removing: /content/dataset/Data/Train_Data/Fire/F_704.jpg\n",
            "Removing: /content/dataset/Data/Train_Data/Fire/F_732.jpg\n",
            "Removing: /content/dataset/Data/Train_Data/Fire/F_922.jpg\n",
            "Removing: /content/dataset/Data/Train_Data/Fire/F_762.jpg\n",
            "Removing: /content/dataset/Data/Train_Data/Fire/F_741.jpg\n",
            "Removing: /content/dataset/Data/Train_Data/Fire/F_89.jpg\n",
            "Removing: /content/dataset/Data/Train_Data/Fire/F_591.jpg\n",
            "Removing: /content/dataset/Data/Train_Data/Fire/F_889.jpg\n",
            "Removing: /content/dataset/Data/Train_Data/Fire/F_716.jpg\n",
            "Removing: /content/dataset/Data/Train_Data/Fire/F_696.jpg\n",
            "Removing: /content/dataset/Data/Train_Data/Fire/F_798.jpg\n",
            "Removing: /content/dataset/Data/Train_Data/Fire/F_912.jpg\n",
            "Removing: /content/dataset/Data/Train_Data/Fire/F_865.jpg\n",
            "Removing: /content/dataset/Data/Train_Data/Fire/F_620.jpg\n",
            "Removing: /content/dataset/Data/Train_Data/Fire/F_765.jpg\n",
            "Removing: /content/dataset/Data/Train_Data/Fire/F_754.jpg\n",
            "Removing: /content/dataset/Data/Train_Data/Fire/F_76.jpg\n",
            "Removing: /content/dataset/Data/Train_Data/Fire/F_662.jpg\n",
            "Removing: /content/dataset/Data/Train_Data/Fire/F_619.jpg\n",
            "Removing: /content/dataset/Data/Train_Data/Fire/F_611.jpg\n",
            "Removing: /content/dataset/Data/Train_Data/Fire/F_838.jpg\n",
            "Removing: /content/dataset/Data/Train_Data/Fire/F_595.jpg\n",
            "Removing: /content/dataset/Data/Train_Data/Fire/F_635.jpg\n",
            "Removing: /content/dataset/Data/Train_Data/Fire/F_861.jpg\n",
            "Removing: /content/dataset/Data/Train_Data/Fire/F_800.jpg\n",
            "Removing: /content/dataset/Data/Train_Data/Fire/F_942.jpg\n",
            "Removing: /content/dataset/Data/Train_Data/Fire/F_647.jpg\n",
            "Removing: /content/dataset/Data/Train_Data/Fire/F_750.jpg\n",
            "Removing: /content/dataset/Data/Train_Data/Fire/F_1574.jpg\n",
            "Removing: /content/dataset/Data/Train_Data/Fire/F_616.jpg\n",
            "Removing: /content/dataset/Data/Train_Data/Fire/F_617.jpg\n",
            "Removing: /content/dataset/Data/Train_Data/Fire/F_597.jpg\n",
            "Removing: /content/dataset/Data/Train_Data/Fire/F_769.jpg\n",
            "Removing: /content/dataset/Data/Train_Data/Fire/F_921.jpg\n",
            "Removing: /content/dataset/Data/Train_Data/Fire/F_859.jpg\n",
            "Removing: /content/dataset/Data/Train_Data/Fire/F_668.jpg\n",
            "Removing: /content/dataset/Data/Train_Data/Fire/F_931.jpg\n",
            "Removing: /content/dataset/Data/Train_Data/Fire/F_624.jpg\n",
            "Removing: /content/dataset/Data/Train_Data/Fire/F_85.jpg\n",
            "Removing: /content/dataset/Data/Train_Data/Fire/F_723.jpg\n",
            "Removing: /content/dataset/Data/Train_Data/Fire/F_615.jpg\n",
            "Removing: /content/dataset/Data/Train_Data/Fire/F_586.jpg\n",
            "Removing: /content/dataset/Data/Train_Data/Fire/F_653.jpg\n",
            "Removing: /content/dataset/Data/Train_Data/Fire/F_65.jpg\n",
            "Removing: /content/dataset/Data/Train_Data/Fire/F_678.jpg\n",
            "Removing: /content/dataset/Data/Train_Data/Fire/F_939.jpg\n",
            "Removing: /content/dataset/Data/Train_Data/Fire/F_68.jpg\n",
            "Removing: /content/dataset/Data/Train_Data/Fire/F_599.jpg\n",
            "Removing: /content/dataset/Data/Train_Data/Fire/F_790.jpg\n",
            "Removing: /content/dataset/Data/Train_Data/Fire/F_686.jpg\n",
            "Removing: /content/dataset/Data/Train_Data/Fire/F_702.jpg\n",
            "Removing: /content/dataset/Data/Train_Data/Fire/F_898.jpg\n",
            "Removing: /content/dataset/Data/Train_Data/Fire/F_923.jpg\n",
            "Removing: /content/dataset/Data/Train_Data/Fire/F_900.jpg\n",
            "Removing: /content/dataset/Data/Train_Data/Fire/F_810.jpg\n",
            "Removing: /content/dataset/Data/Train_Data/Fire/F_59.jpg\n",
            "Removing: /content/dataset/Data/Train_Data/Fire/F_80.jpg\n",
            "Removing: /content/dataset/Data/Train_Data/Fire/F_822.jpg\n",
            "Removing: /content/dataset/Data/Train_Data/Fire/F_850.jpg\n",
            "Removing: /content/dataset/Data/Train_Data/Fire/F_930.jpg\n",
            "Removing: /content/dataset/Data/Train_Data/Fire/F_784.jpg\n",
            "Removing: /content/dataset/Data/Train_Data/Fire/F_805.jpg\n",
            "Removing: /content/dataset/Data/Train_Data/Fire/F_612.jpg\n",
            "Removing: /content/dataset/Data/Train_Data/Fire/F_664.jpg\n",
            "Removing: /content/dataset/Data/Train_Data/Fire/F_829.jpg\n",
            "Removing: /content/dataset/Data/Train_Data/Fire/F_869.jpg\n",
            "Removing: /content/dataset/Data/Train_Data/Fire/F_907.jpg\n",
            "Removing: /content/dataset/Data/Train_Data/Fire/F_806.jpg\n",
            "Removing: /content/dataset/Data/Train_Data/Fire/F_899.jpg\n",
            "Removing: /content/dataset/Data/Train_Data/Fire/F_63.jpg\n",
            "Removing: /content/dataset/Data/Train_Data/Fire/F_688.jpg\n",
            "Removing: /content/dataset/Data/Train_Data/Fire/F_943.jpg\n",
            "Removing: /content/dataset/Data/Train_Data/Fire/F_766.jpg\n",
            "Removing: /content/dataset/Data/Train_Data/Fire/F_700.jpg\n",
            "Removing: /content/dataset/Data/Train_Data/Fire/F_94.jpg\n",
            "Removing: /content/dataset/Data/Train_Data/Fire/F_736.jpg\n",
            "Removing: /content/dataset/Data/Train_Data/Fire/F_908.jpg\n",
            "Removing: /content/dataset/Data/Train_Data/Fire/F_650.jpg\n",
            "Removing: /content/dataset/Data/Train_Data/Fire/F_906.jpg\n",
            "Removing: /content/dataset/Data/Train_Data/Fire/F_831.jpg\n",
            "Removing: /content/dataset/Data/Train_Data/Fire/F_631.jpg\n",
            "Removing: /content/dataset/Data/Train_Data/Fire/F_888.jpg\n",
            "Removing: /content/dataset/Data/Train_Data/Fire/F_804.jpg\n",
            "Removing: /content/dataset/Data/Train_Data/Fire/F_739.jpg\n",
            "Removing: /content/dataset/Data/Train_Data/Fire/F_881.jpg\n",
            "Removing: /content/dataset/Data/Train_Data/Fire/F_712.jpg\n",
            "Removing: /content/dataset/Data/Train_Data/Fire/F_837.jpg\n",
            "Removing: /content/dataset/Data/Train_Data/Fire/F_813.jpg\n",
            "Removing: /content/dataset/Data/Train_Data/Fire/F_886.jpg\n",
            "Removing: /content/dataset/Data/Train_Data/Fire/F_604.jpg\n",
            "Removing: /content/dataset/Data/Train_Data/Fire/F_740.jpg\n",
            "Removing: /content/dataset/Data/Train_Data/Fire/F_824.jpg\n",
            "Removing: /content/dataset/Data/Train_Data/Fire/F_652.jpg\n",
            "Removing: /content/dataset/Data/Train_Data/Fire/F_629.jpg\n",
            "Removing: /content/dataset/Data/Train_Data/Fire/F_914.jpg\n",
            "Removing: /content/dataset/Data/Train_Data/Fire/F_890.jpg\n",
            "Removing: /content/dataset/Data/Train_Data/Fire/F_701.jpg\n",
            "Removing: /content/dataset/Data/Train_Data/Fire/F_713.jpg\n",
            "Removing: /content/dataset/Data/Train_Data/Fire/F_896.jpg\n",
            "Removing: /content/dataset/Data/Train_Data/Fire/F_771.jpg\n",
            "Removing: /content/dataset/Data/Train_Data/Fire/F_892.jpg\n",
            "Removing: /content/dataset/Data/Train_Data/Fire/F_751.jpg\n",
            "Removing: /content/dataset/Data/Train_Data/Fire/F_706.jpg\n",
            "Removing: /content/dataset/Data/Train_Data/Fire/F_671.jpg\n",
            "Removing: /content/dataset/Data/Train_Data/Fire/F_941.jpg\n",
            "Removing: /content/dataset/Data/Train_Data/Fire/F_880.jpg\n",
            "Removing: /content/dataset/Data/Train_Data/Fire/F_844.jpg\n",
            "Removing: /content/dataset/Data/Train_Data/Fire/F_621.jpg\n",
            "Removing: /content/dataset/Data/Train_Data/Fire/F_613.jpg\n",
            "Removing: /content/dataset/Data/Train_Data/Fire/F_666.jpg\n",
            "Removing: /content/dataset/Data/Train_Data/Fire/F_657.jpg\n",
            "Removing: /content/dataset/Data/Train_Data/Fire/F_728.jpg\n",
            "Removing: /content/dataset/Data/Train_Data/Fire/F_783.jpg\n",
            "Removing: /content/dataset/Data/Train_Data/Fire/F_862.jpg\n",
            "Removing: /content/dataset/Data/Train_Data/Fire/F_803.jpg\n",
            "Removing: /content/dataset/Data/Train_Data/Fire/F_855.jpg\n",
            "Removing: /content/dataset/Data/Train_Data/Fire/F_924.jpg\n",
            "Removing: /content/dataset/Data/Train_Data/Fire/F_90.jpg\n",
            "Removing: /content/dataset/Data/Train_Data/Fire/F_752.jpg\n",
            "Removing: /content/dataset/Data/Train_Data/Fire/F_609.jpg\n",
            "Removing: /content/dataset/Data/Train_Data/Fire/F_834.jpg\n",
            "Removing: /content/dataset/Data/Train_Data/Fire/F_747.jpg\n",
            "Removing: /content/dataset/Data/Train_Data/Fire/F_86.jpg\n",
            "Removing: /content/dataset/Data/Train_Data/Fire/F_676.jpg\n",
            "Removing: /content/dataset/Data/Train_Data/Fire/F_867.jpg\n",
            "Removing: /content/dataset/Data/Train_Data/Fire/F_895.jpg\n",
            "Removing: /content/dataset/Data/Train_Data/Fire/F_726.jpg\n",
            "Removing: /content/dataset/Data/Train_Data/Fire/F_870.jpg\n",
            "Removing: /content/dataset/Data/Train_Data/Fire/F_851.jpg\n",
            "Removing: /content/dataset/Data/Train_Data/Fire/F_708.jpg\n",
            "Removing: /content/dataset/Data/Train_Data/Fire/F_715.jpg\n",
            "Removing: /content/dataset/Data/Train_Data/Fire/F_729.jpg\n",
            "Removing: /content/dataset/Data/Train_Data/Fire/F_711.jpg\n",
            "Removing: /content/dataset/Data/Train_Data/Fire/F_776.jpg\n",
            "Removing: /content/dataset/Data/Train_Data/Fire/F_61.jpg\n",
            "Removing: /content/dataset/Data/Train_Data/Fire/F_627.jpg\n",
            "Removing: /content/dataset/Data/Train_Data/Fire/F_811.jpg\n",
            "Removing: /content/dataset/Data/Train_Data/Fire/F_857.jpg\n",
            "Removing: /content/dataset/Data/Train_Data/Fire/F_605.jpg\n",
            "Removing: /content/dataset/Data/Train_Data/Fire/F_864.jpg\n",
            "Removing: /content/dataset/Data/Train_Data/Fire/F_731.jpg\n",
            "Removing: /content/dataset/Data/Train_Data/Fire/F_807.jpg\n",
            "Removing: /content/dataset/Data/Train_Data/Fire/F_687.jpg\n",
            "Removing: /content/dataset/Data/Train_Data/Fire/F_848.jpg\n",
            "Removing: /content/dataset/Data/Train_Data/Fire/F_887.jpg\n",
            "Removing: /content/dataset/Data/Train_Data/Fire/F_682.jpg\n",
            "Removing: /content/dataset/Data/Train_Data/Fire/F_792.jpg\n",
            "Removing: /content/dataset/Data/Train_Data/Fire/F_871.jpg\n",
            "Removing: /content/dataset/Data/Train_Data/Fire/F_913.jpg\n",
            "Removing: /content/dataset/Data/Train_Data/Fire/F_730.jpg\n",
            "Removing: /content/dataset/Data/Train_Data/Fire/F_608.jpg\n",
            "Removing: /content/dataset/Data/Train_Data/Fire/F_832.jpg\n",
            "Removing: /content/dataset/Data/Train_Data/Fire/F_920.jpg\n",
            "Removing: /content/dataset/Data/Train_Data/Fire/F_789.jpg\n",
            "Removing: /content/dataset/Data/Train_Data/Fire/F_773.jpg\n",
            "Removing: /content/dataset/Data/Train_Data/Fire/F_794.jpg\n",
            "Removing: /content/dataset/Data/Train_Data/Fire/F_843.jpg\n",
            "Removing: /content/dataset/Data/Train_Data/Fire/F_905.jpg\n",
            "Removing: /content/dataset/Data/Train_Data/Fire/F_817.jpg\n",
            "Removing: /content/dataset/Data/Train_Data/Fire/F_60.jpg\n",
            "Removing: /content/dataset/Data/Train_Data/Fire/F_897.jpg\n",
            "Removing: /content/dataset/Data/Train_Data/Fire/F_820.jpg\n",
            "Removing: /content/dataset/Data/Train_Data/Fire/F_625.jpg\n",
            "Removing: /content/dataset/Data/Train_Data/Fire/F_823.jpg\n",
            "Removing: /content/dataset/Data/Train_Data/Fire/F_705.jpg\n",
            "Removing: /content/dataset/Data/Train_Data/Fire/F_725.jpg\n",
            "Removing: /content/dataset/Data/Train_Data/Fire/F_816.jpg\n",
            "Removing: /content/dataset/Data/Train_Data/Fire/F_835.jpg\n",
            "Removing: /content/dataset/Data/Train_Data/Fire/F_767.jpg\n",
            "Removing: /content/dataset/Data/Train_Data/Fire/F_793.jpg\n",
            "Removing: /content/dataset/Data/Train_Data/Fire/F_852.jpg\n",
            "Removing: /content/dataset/Data/Train_Data/Fire/F_623.jpg\n",
            "Removing: /content/dataset/Data/Train_Data/Fire/F_698.jpg\n",
            "Removing: /content/dataset/Data/Train_Data/Fire/F_703.jpg\n",
            "Removing: /content/dataset/Data/Train_Data/Fire/F_738.jpg\n",
            "Removing: /content/dataset/Data/Train_Data/Fire/F_893.jpg\n",
            "Removing: /content/dataset/Data/Train_Data/Fire/F_876.jpg\n",
            "Removing: /content/dataset/Data/Train_Data/Fire/F_866.jpg\n",
            "Removing: /content/dataset/Data/Train_Data/Fire/F_643.jpg\n",
            "Removing: /content/dataset/Data/Train_Data/Fire/F_849.jpg\n",
            "Removing: /content/dataset/Data/Train_Data/Fire/F_655.jpg\n",
            "Removing: /content/dataset/Data/Train_Data/Fire/F_737.jpg\n",
            "Removing: /content/dataset/Data/Train_Data/Fire/F_649.jpg\n",
            "Removing: /content/dataset/Data/Train_Data/Fire/F_603.jpg\n",
            "Removing: /content/dataset/Data/Train_Data/Fire/F_749.jpg\n",
            "Removing: /content/dataset/Data/Train_Data/Fire/F_796.jpg\n",
            "Removing: /content/dataset/Data/Train_Data/Fire/F_679.jpg\n",
            "Removing: /content/dataset/Data/Train_Data/Fire/F_884.jpg\n",
            "Removing: /content/dataset/Data/Train_Data/Fire/F_646.jpg\n",
            "Removing: /content/dataset/Data/Train_Data/Fire/F_772.jpg\n",
            "Removing: /content/dataset/Data/Train_Data/Fire/F_695.jpg\n",
            "Removing: /content/dataset/Data/Train_Data/Fire/F_782.jpg\n",
            "Removing: /content/dataset/Data/Train_Data/Fire/F_842.jpg\n",
            "Removing: /content/dataset/Data/Train_Data/Fire/F_788.jpg\n",
            "Removing: /content/dataset/Data/Train_Data/Fire/F_785.jpg\n",
            "Removing: /content/dataset/Data/Train_Data/Fire/F_659.jpg\n",
            "Removing: /content/dataset/Data/Train_Data/Fire/F_693.jpg\n",
            "Removing: /content/dataset/Data/Train_Data/Fire/F_742.jpg\n",
            "Removing: /content/dataset/Data/Train_Data/Fire/F_684.jpg\n",
            "Removing: /content/dataset/Data/Train_Data/Fire/F_719.jpg\n",
            "Removing: /content/dataset/Data/Train_Data/Fire/F_815.jpg\n",
            "Removing: /content/dataset/Data/Train_Data/Fire/F_93.jpg\n",
            "Removing: /content/dataset/Data/Train_Data/Fire/F_638.jpg\n",
            "Removing: /content/dataset/Data/Train_Data/Fire/F_680.jpg\n",
            "Removing: /content/dataset/Data/Train_Data/Fire/F_656.jpg\n",
            "Removing: /content/dataset/Data/Train_Data/Fire/F_669.jpg\n",
            "Removing: /content/dataset/Data/Train_Data/Fire/F_628.jpg\n",
            "Removing: /content/dataset/Data/Train_Data/Fire/F_663.jpg\n",
            "Removing: /content/dataset/Data/Train_Data/Fire/F_699.jpg\n",
            "Removing: /content/dataset/Data/Train_Data/Fire/F_825.jpg\n",
            "Removing: /content/dataset/Data/Train_Data/Fire/F_675.jpg\n",
            "Removing: /content/dataset/Data/Train_Data/Fire/F_801.jpg\n",
            "Removing: /content/dataset/Data/Train_Data/Fire/F_64.jpg\n",
            "Removing: /content/dataset/Data/Train_Data/Fire/F_626.jpg\n",
            "Removing: /content/dataset/Data/Train_Data/Fire/F_70.jpg\n",
            "Removing: /content/dataset/Data/Train_Data/Fire/F_727.jpg\n",
            "Removing: /content/dataset/Data/Train_Data/Fire/F_760.jpg\n",
            "Removing: /content/dataset/Data/Train_Data/Fire/F_841.jpg\n",
            "Removing: /content/dataset/Data/Train_Data/Fire/F_873.jpg\n",
            "Removing: /content/dataset/Data/Train_Data/Fire/F_915.jpg\n",
            "Removing: /content/dataset/Data/Train_Data/Fire/F_901.jpg\n",
            "Removing: /content/dataset/Data/Train_Data/Fire/F_891.jpg\n",
            "Removing: /content/dataset/Data/Train_Data/Fire/F_830.jpg\n",
            "Removing: /content/dataset/Data/Train_Data/Fire/F_827.jpg\n",
            "Removing: /content/dataset/Data/Train_Data/Fire/F_641.jpg\n",
            "Removing: /content/dataset/Data/Train_Data/Fire/F_697.jpg\n",
            "Removing: /content/dataset/Data/Train_Data/Fire/F_587.jpg\n",
            "Removing: /content/dataset/Data/Train_Data/Fire/F_868.jpg\n",
            "Removing: /content/dataset/Data/Train_Data/Fire/F_879.jpg\n",
            "Removing: /content/dataset/Data/Train_Data/Fire/F_775.jpg\n",
            "Removing: /content/dataset/Data/Train_Data/Fire/F_787.jpg\n",
            "Removing: /content/dataset/Data/Train_Data/Fire/F_648.jpg\n",
            "Removing: /content/dataset/Data/Train_Data/Fire/F_774.jpg\n",
            "Removing: /content/dataset/Data/Train_Data/Fire/F_83.jpg\n",
            "Removing: /content/dataset/Data/Train_Data/Fire/F_596.jpg\n",
            "Removing: /content/dataset/Data/Train_Data/Fire/F_618.jpg\n",
            "Removing: /content/dataset/Data/Train_Data/Fire/F_593.jpg\n",
            "Removing: /content/dataset/Data/Train_Data/Fire/F_791.jpg\n",
            "Removing: /content/dataset/Data/Train_Data/Fire/F_71.jpg\n",
            "Removing: /content/dataset/Data/Train_Data/Fire/F_645.jpg\n",
            "Removing: /content/dataset/Data/Train_Data/Fire/F_709.jpg\n",
            "Removing: /content/dataset/Data/Train_Data/Fire/F_755.jpg\n",
            "Removing: /content/dataset/Data/Train_Data/Fire/F_632.jpg\n",
            "Removing: /content/dataset/Data/Train_Data/Fire/F_73.jpg\n",
            "Removing: /content/dataset/Data/Train_Data/Fire/F_637.jpg\n",
            "Removing: /content/dataset/Data/Train_Data/Fire/F_753.jpg\n",
            "Removing: /content/dataset/Data/Train_Data/Fire/F_874.jpg\n",
            "Removing: /content/dataset/Data/Train_Data/Fire/F_858.jpg\n",
            "Removing: /content/dataset/Data/Train_Data/Fire/F_691.jpg\n",
            "Removing: /content/dataset/Data/Train_Data/Fire/F_854.jpg\n",
            "Removing: /content/dataset/Data/Train_Data/Fire/F_797.jpg\n",
            "Removing: /content/dataset/Data/Train_Data/Fire/F_878.jpg\n",
            "Removing: /content/dataset/Data/Train_Data/Fire/F_799.jpg\n",
            "Removing: /content/dataset/Data/Train_Data/Fire/F_919.jpg\n",
            "Removing: /content/dataset/Data/Train_Data/Fire/F_777.jpg\n",
            "Removing: /content/dataset/Data/Train_Data/Fire/F_622.jpg\n",
            "Removing: /content/dataset/Data/Train_Data/Fire/F_757.jpg\n",
            "Removing: /content/dataset/Data/Train_Data/Fire/F_746.jpg\n",
            "Removing: /content/dataset/Data/Train_Data/Fire/F_748.jpg\n",
            "Removing: /content/dataset/Data/Train_Data/Fire/F_860.jpg\n",
            "Removing: /content/dataset/Data/Train_Data/Fire/F_764.jpg\n",
            "Removing: /content/dataset/Data/Train_Data/Fire/F_826.jpg\n",
            "Removing: /content/dataset/Data/Train_Data/Fire/F_598.jpg\n",
            "Removing: /content/dataset/Data/Train_Data/Fire/F_74.jpg\n",
            "Removing: /content/dataset/Data/Train_Data/Fire/F_585.jpg\n",
            "Removing: /content/dataset/Data/Train_Data/Fire/F_828.jpg\n",
            "Removing: /content/dataset/Data/Train_Data/Fire/F_882.jpg\n",
            "Removing: /content/dataset/Data/Train_Data/Fire/F_902.jpg\n",
            "Removing: /content/dataset/Data/Train_Data/Fire/F_724.jpg\n",
            "Removing: /content/dataset/Data/Train_Data/Fire/F_674.jpg\n",
            "Removing: /content/dataset/Data/Train_Data/Fire/F_91.jpg\n",
            "Removing: /content/dataset/Data/Train_Data/Fire/F_763.jpg\n",
            "Removing: /content/dataset/Data/Train_Data/Fire/F_904.jpg\n",
            "Removing: /content/dataset/Data/Train_Data/Fire/F_894.jpg\n",
            "Removing: /content/dataset/Data/Train_Data/Fire/F_733.jpg\n",
            "Removing: /content/dataset/Data/Train_Data/Fire/F_883.jpg\n",
            "Removing: /content/dataset/Data/Train_Data/Fire/F_795.jpg\n",
            "Removing: /content/dataset/Data/Train_Data/Fire/F_840.jpg\n",
            "Removing: /content/dataset/Data/Train_Data/Fire/F_856.jpg\n",
            "Removing: /content/dataset/Data/Train_Data/Fire/F_819.jpg\n",
            "Removing: /content/dataset/Data/Train_Data/Fire/F_72.jpg\n",
            "Removing: /content/dataset/Data/Train_Data/Fire/F_911.jpg\n",
            "Removing: /content/dataset/Data/Train_Data/Fire/F_845.jpg\n",
            "Removing: /content/dataset/Data/Train_Data/Fire/F_885.jpg\n",
            "Removing: /content/dataset/Data/Train_Data/Fire/F_640.jpg\n",
            "Removing: /content/dataset/Data/Train_Data/Fire/F_839.jpg\n",
            "Removing: /content/dataset/Data/Train_Data/Fire/F_75.jpg\n",
            "Removing: /content/dataset/Data/Train_Data/Fire/F_778.jpg\n",
            "Removing: /content/dataset/Data/Train_Data/Fire/F_847.jpg\n",
            "Removing: /content/dataset/Data/Train_Data/Fire/F_589.jpg\n",
            "Removing: /content/dataset/Data/Train_Data/Fire/F_721.jpg\n",
            "Removing: /content/dataset/Data/Train_Data/Fire/F_821.jpg\n",
            "Removing: /content/dataset/Data/Train_Data/Fire/F_683.jpg\n",
            "Removing: /content/dataset/Data/Train_Data/Fire/F_935.jpg\n",
            "Removing: /content/dataset/Data/Train_Data/Fire/F_84.jpg\n",
            "Removing: /content/dataset/Data/Train_Data/Fire/F_735.jpg\n",
            "Removing: /content/dataset/Data/Train_Data/Fire/F_67.jpg\n",
            "Removing: /content/dataset/Data/Train_Data/Fire/F_836.jpg\n",
            "Removing: /content/dataset/Data/Train_Data/Fire/F_636.jpg\n",
            "Removing: /content/dataset/Data/Train_Data/Fire/F_808.jpg\n",
            "Removing: /content/dataset/Data/Train_Data/Fire/F_780.jpg\n",
            "Removing: /content/dataset/Data/Train_Data/Fire/F_602.jpg\n",
            "Removing: /content/dataset/Data/Train_Data/Fire/F_672.jpg\n",
            "Removing: /content/dataset/Data/Train_Data/Fire/F_853.jpg\n",
            "Removing: /content/dataset/Data/Train_Data/Fire/F_846.jpg\n",
            "Removing: /content/dataset/Data/Train_Data/Fire/F_926.jpg\n",
            "Removing: /content/dataset/Data/Train_Data/Fire/F_610.jpg\n",
            "Removing: /content/dataset/Data/Train_Data/Fire/F_710.jpg\n",
            "Removing: /content/dataset/Data/Train_Data/Fire/F_601.jpg\n",
            "Removing: /content/dataset/Data/Train_Data/Fire/F_661.jpg\n",
            "Removing: /content/dataset/Data/Train_Data/Fire/F_932.jpg\n",
            "Removing: /content/dataset/Data/Train_Data/Fire/F_809.jpg\n",
            "Removing: /content/dataset/Data/Train_Data/Fire/F_592.jpg\n",
            "Removing: /content/dataset/Data/Train_Data/Fire/F_768.jpg\n",
            "Removing: /content/dataset/Data/Train_Data/Fire/F_814.jpg\n",
            "Removing: /content/dataset/Data/Train_Data/Fire/F_658.jpg\n",
            "Removing: /content/dataset/Data/Train_Data/Fire/F_654.jpg\n",
            "Removing: /content/dataset/Data/Train_Data/Fire/F_62.jpg\n",
            "Removing: /content/dataset/Data/Train_Data/Fire/F_660.jpg\n",
            "Removing: /content/dataset/Data/Train_Data/Fire/F_877.jpg\n",
            "Removing: /content/dataset/Data/Train_Data/Fire/F_944.jpg\n",
            "Removing: /content/dataset/Data/Train_Data/Fire/F_786.jpg\n",
            "Removing: /content/dataset/Data/Train_Data/Fire/F_633.jpg\n",
            "Removing: /content/dataset/Data/Train_Data/Fire/F_77.jpg\n",
            "Removing: /content/dataset/Data/Train_Data/Fire/F_707.jpg\n",
            "Removing: /content/dataset/Data/Train_Data/Fire/F_872.jpg\n",
            "Removing: /content/dataset/Data/Train_Data/Fire/F_802.jpg\n",
            "Removing: /content/dataset/Data/Train_Data/Fire/F_642.jpg\n",
            "Removing: /content/dataset/Data/Train_Data/Fire/F_66.jpg\n",
            "Removing: /content/dataset/Data/Train_Data/Fire/F_614.jpg\n",
            "Removing: /content/dataset/Data/Train_Data/Fire/F_936.jpg\n",
            "Removing: /content/dataset/Data/Train_Data/Fire/F_918.jpg\n",
            "Removing: /content/dataset/Data/Train_Data/Fire/F_925.jpg\n",
            "Removing: /content/dataset/Data/Train_Data/Fire/F_933.jpg\n",
            "Removing: /content/dataset/Data/Train_Data/Fire/F_694.jpg\n",
            "Removing: /content/dataset/Data/Train_Data/Fire/F_863.jpg\n",
            "Removing: /content/dataset/Data/Train_Data/Fire/F_88.jpg\n",
            "Removing: /content/dataset/Data/Train_Data/Fire/F_718.jpg\n",
            "Removing: /content/dataset/Data/Train_Data/Fire/F_720.jpg\n",
            "Removing: /content/dataset/Data/Train_Data/Fire/F_910.jpg\n",
            "Removing: /content/dataset/Data/Train_Data/Fire/F_761.jpg\n",
            "Removing: /content/dataset/Data/Train_Data/Fire/F_689.jpg\n",
            "Removing: /content/dataset/Data/Train_Data/Fire/F_670.jpg\n",
            "Removing: /content/dataset/Data/Train_Data/Fire/F_714.jpg\n",
            "Removing: /content/dataset/Data/Train_Data/Fire/F_665.jpg\n",
            "Removing: /content/dataset/Data/Train_Data/Fire/F_745.jpg\n",
            "Removing: /content/dataset/Data/Train_Data/Fire/F_667.jpg\n",
            "Removing: /content/dataset/Data/Train_Data/Fire/F_651.jpg\n",
            "Removing: /content/dataset/Data/Train_Data/Fire/F_940.jpg\n",
            "Removing: /content/dataset/Data/Train_Data/Fire/F_673.jpg\n",
            "Removing: /content/dataset/Data/Train_Data/Fire/F_607.jpg\n",
            "Removing: /content/dataset/Data/Train_Data/Fire/F_744.jpg\n",
            "Removing: /content/dataset/Data/Train_Data/Fire/F_734.jpg\n",
            "Removing: /content/dataset/Data/Train_Data/Fire/F_916.jpg\n",
            "Removing: /content/dataset/Data/Train_Data/Fire/F_903.jpg\n",
            "Removing: /content/dataset/Data/Train_Data/Fire/F_927.jpg\n",
            "Removing: /content/dataset/Data/Train_Data/Fire/F_634.jpg\n",
            "Removing: /content/dataset/Data/Train_Data/Fire/F_917.jpg\n",
            "Removing: /content/dataset/Data/Train_Data/Fire/F_606.jpg\n",
            "Removing: /content/dataset/Data/Train_Data/Fire/F_818.jpg\n",
            "Removing: /content/dataset/Data/Train_Data/Fire/F_690.jpg\n",
            "Removing: /content/dataset/Data/Train_Data/Fire/F_812.jpg\n",
            "Removing: /content/dataset/Data/Train_Data/Fire/F_639.jpg\n",
            "Removing: /content/dataset/Data/Train_Data/Fire/F_681.jpg\n",
            "Removing: /content/dataset/Data/Train_Data/Fire/F_756.jpg\n",
            "Removing: /content/dataset/Data/Train_Data/Fire/F_717.jpg\n",
            "Removing: /content/dataset/Data/Train_Data/Fire/F_929.jpg\n",
            "Removing: /content/dataset/Data/Train_Data/Fire/F_833.jpg\n",
            "Removing: /content/dataset/Data/Train_Data/Fire/F_87.jpg\n",
            "Removing: /content/dataset/Data/Train_Data/Fire/F_644.jpg\n",
            "Removing: /content/dataset/Data/Train_Data/Fire/F_630.jpg\n",
            "Removing: /content/dataset/Data/Train_Data/Fire/F_928.jpg\n",
            "Removing: /content/dataset/Data/Train_Data/Fire/F_692.jpg\n",
            "✅ Removed 389 bad images from /content/dataset/Data/Train_Data\n",
            "✅ Removed 0 bad images from /content/dataset/Data/Test_Data\n"
          ]
        }
      ]
    },
    {
      "cell_type": "code",
      "source": [
        "# === Configuration ===\n",
        "img_height, img_width = 224, 224\n",
        "batch_size = 32\n",
        "epochs_initial = 10\n",
        "epochs_finetune = 10\n",
        "train_dir = \"/content/dataset/Data/Train_Data\"\n",
        "test_dir = \"/content/dataset/Data/Test_Data\"\n",
        "num_classes = len(os.listdir(train_dir))\n",
        "\n",
        "# === Data Preparation ===\n",
        "train_datagen = ImageDataGenerator(\n",
        "    rescale=1./255,\n",
        "    rotation_range=15,\n",
        "    zoom_range=0.2,\n",
        "    horizontal_flip=True,\n",
        "    validation_split=0.2\n",
        ")\n",
        "\n",
        "test_datagen = ImageDataGenerator(rescale=1./255)\n",
        "\n",
        "train_generator = train_datagen.flow_from_directory(\n",
        "    train_dir, target_size=(img_height, img_width), batch_size=batch_size,\n",
        "    class_mode='categorical', subset='training'\n",
        ")\n",
        "\n",
        "val_generator = train_datagen.flow_from_directory(\n",
        "    train_dir, target_size=(img_height, img_width), batch_size=batch_size,\n",
        "    class_mode='categorical', subset='validation'\n",
        ")\n",
        "\n",
        "test_generator = test_datagen.flow_from_directory(\n",
        "    test_dir, target_size=(img_height, img_width), batch_size=1,\n",
        "    class_mode='categorical', shuffle=False\n",
        ")\n"
      ],
      "metadata": {
        "id": "7ToXQ2R4fXcz",
        "colab": {
          "base_uri": "https://localhost:8080/"
        },
        "outputId": "94a04d1b-774a-4197-c2f5-fe3ef8859d68"
      },
      "execution_count": 5,
      "outputs": [
        {
          "output_type": "stream",
          "name": "stdout",
          "text": [
            "Found 3896 images belonging to 2 classes.\n",
            "Found 974 images belonging to 2 classes.\n",
            "Found 50 images belonging to 2 classes.\n"
          ]
        }
      ]
    },
    {
      "cell_type": "code",
      "source": [
        "# === Load MobileNetV2 Base Model ===\n",
        "base_model = MobileNetV2(input_shape=(img_height, img_width, 3), include_top=False, weights='imagenet')\n",
        "base_model.trainable = False  # Freeze base model\n",
        "\n",
        "# === Add Custom Classifier ===\n",
        "x = base_model.output\n",
        "x = GlobalAveragePooling2D()(x)\n",
        "x = Dropout(0.5)(x)\n",
        "x = Dense(128, activation='relu')(x)\n",
        "x = Dropout(0.3)(x)\n",
        "output = Dense(num_classes, activation='softmax')(x)\n",
        "\n",
        "model = Model(inputs=base_model.input, outputs=output)\n",
        "\n",
        "model.compile(optimizer=Adam(learning_rate=0.0001),\n",
        "              loss='categorical_crossentropy',\n",
        "              metrics=['accuracy'])\n",
        "\n",
        "# === Callbacks ===\n",
        "early_stop = EarlyStopping(monitor='val_loss', patience=3, restore_best_weights=True)\n",
        "checkpoint = ModelCheckpoint(\"mobilenet_fire_best.h5\", save_best_only=True)\n",
        "\n",
        "# === Initial Training ===\n",
        "print(\"🔧 Starting initial training (top layers only)...\")\n",
        "history1 = model.fit(\n",
        "    train_generator,\n",
        "    validation_data=val_generator,\n",
        "    epochs=epochs_initial,\n",
        "    callbacks=[early_stop, checkpoint]\n",
        ")\n",
        "\n",
        "# === Unfreeze Some Layers for Fine-Tuning ===\n",
        "print(\"🔄 Fine-tuning MobileNetV2...\")\n",
        "base_model.trainable = True\n",
        "for layer in base_model.layers[:100]:\n",
        "    layer.trainable = False\n",
        "\n",
        "model.compile(optimizer=Adam(learning_rate=1e-5),\n",
        "              loss='categorical_crossentropy',\n",
        "              metrics=['accuracy'])\n",
        "\n",
        "history2 = model.fit(\n",
        "    train_generator,\n",
        "    validation_data=val_generator,\n",
        "    epochs=epochs_finetune,\n",
        "    callbacks=[early_stop, checkpoint]\n",
        ")\n"
      ],
      "metadata": {
        "colab": {
          "base_uri": "https://localhost:8080/"
        },
        "id": "rneVI5eWfZn_",
        "outputId": "35ee9f5d-294a-43d9-f9a7-4e38c8ec56de"
      },
      "execution_count": 6,
      "outputs": [
        {
          "output_type": "stream",
          "name": "stdout",
          "text": [
            "Downloading data from https://storage.googleapis.com/tensorflow/keras-applications/mobilenet_v2/mobilenet_v2_weights_tf_dim_ordering_tf_kernels_1.0_224_no_top.h5\n",
            "\u001b[1m9406464/9406464\u001b[0m \u001b[32m━━━━━━━━━━━━━━━━━━━━\u001b[0m\u001b[37m\u001b[0m \u001b[1m2s\u001b[0m 0us/step\n",
            "🔧 Starting initial training (top layers only)...\n"
          ]
        },
        {
          "output_type": "stream",
          "name": "stderr",
          "text": [
            "/usr/local/lib/python3.11/dist-packages/keras/src/trainers/data_adapters/py_dataset_adapter.py:121: UserWarning: Your `PyDataset` class should call `super().__init__(**kwargs)` in its constructor. `**kwargs` can include `workers`, `use_multiprocessing`, `max_queue_size`. Do not pass these arguments to `fit()`, as they will be ignored.\n",
            "  self._warn_if_super_not_called()\n"
          ]
        },
        {
          "output_type": "stream",
          "name": "stdout",
          "text": [
            "Epoch 1/10\n",
            "\u001b[1m122/122\u001b[0m \u001b[32m━━━━━━━━━━━━━━━━━━━━\u001b[0m\u001b[37m\u001b[0m \u001b[1m0s\u001b[0m 501ms/step - accuracy: 0.6910 - loss: 0.6170"
          ]
        },
        {
          "output_type": "stream",
          "name": "stderr",
          "text": [
            "WARNING:absl:You are saving your model as an HDF5 file via `model.save()` or `keras.saving.save_model(model)`. This file format is considered legacy. We recommend using instead the native Keras format, e.g. `model.save('my_model.keras')` or `keras.saving.save_model(model, 'my_model.keras')`. \n"
          ]
        },
        {
          "output_type": "stream",
          "name": "stdout",
          "text": [
            "\b\b\b\b\b\b\b\b\b\b\b\b\b\b\b\b\b\b\b\b\b\b\b\b\b\b\b\b\b\b\b\b\b\b\b\b\b\b\b\b\b\b\b\b\b\b\b\b\b\b\b\b\b\b\b\b\b\b\b\b\b\b\b\b\b\b\b\b\b\b\b\b\b\b\b\b\r\u001b[1m122/122\u001b[0m \u001b[32m━━━━━━━━━━━━━━━━━━━━\u001b[0m\u001b[37m\u001b[0m \u001b[1m96s\u001b[0m 690ms/step - accuracy: 0.6918 - loss: 0.6157 - val_accuracy: 0.8901 - val_loss: 0.2752\n",
            "Epoch 2/10\n",
            "\u001b[1m122/122\u001b[0m \u001b[32m━━━━━━━━━━━━━━━━━━━━\u001b[0m\u001b[37m\u001b[0m \u001b[1m0s\u001b[0m 441ms/step - accuracy: 0.8981 - loss: 0.2516"
          ]
        },
        {
          "output_type": "stream",
          "name": "stderr",
          "text": [
            "WARNING:absl:You are saving your model as an HDF5 file via `model.save()` or `keras.saving.save_model(model)`. This file format is considered legacy. We recommend using instead the native Keras format, e.g. `model.save('my_model.keras')` or `keras.saving.save_model(model, 'my_model.keras')`. \n"
          ]
        },
        {
          "output_type": "stream",
          "name": "stdout",
          "text": [
            "\b\b\b\b\b\b\b\b\b\b\b\b\b\b\b\b\b\b\b\b\b\b\b\b\b\b\b\b\b\b\b\b\b\b\b\b\b\b\b\b\b\b\b\b\b\b\b\b\b\b\b\b\b\b\b\b\b\b\b\b\b\b\b\b\b\b\b\b\b\b\b\b\b\b\b\b\r\u001b[1m122/122\u001b[0m \u001b[32m━━━━━━━━━━━━━━━━━━━━\u001b[0m\u001b[37m\u001b[0m \u001b[1m120s\u001b[0m 566ms/step - accuracy: 0.8981 - loss: 0.2514 - val_accuracy: 0.9138 - val_loss: 0.2113\n",
            "Epoch 3/10\n",
            "\u001b[1m122/122\u001b[0m \u001b[32m━━━━━━━━━━━━━━━━━━━━\u001b[0m\u001b[37m\u001b[0m \u001b[1m69s\u001b[0m 570ms/step - accuracy: 0.9286 - loss: 0.1822 - val_accuracy: 0.9045 - val_loss: 0.2420\n",
            "Epoch 4/10\n",
            "\u001b[1m122/122\u001b[0m \u001b[32m━━━━━━━━━━━━━━━━━━━━\u001b[0m\u001b[37m\u001b[0m \u001b[1m70s\u001b[0m 573ms/step - accuracy: 0.9454 - loss: 0.1495 - val_accuracy: 0.9086 - val_loss: 0.2387\n",
            "Epoch 5/10\n",
            "\u001b[1m122/122\u001b[0m \u001b[32m━━━━━━━━━━━━━━━━━━━━\u001b[0m\u001b[37m\u001b[0m \u001b[1m0s\u001b[0m 439ms/step - accuracy: 0.9452 - loss: 0.1462"
          ]
        },
        {
          "output_type": "stream",
          "name": "stderr",
          "text": [
            "WARNING:absl:You are saving your model as an HDF5 file via `model.save()` or `keras.saving.save_model(model)`. This file format is considered legacy. We recommend using instead the native Keras format, e.g. `model.save('my_model.keras')` or `keras.saving.save_model(model, 'my_model.keras')`. \n"
          ]
        },
        {
          "output_type": "stream",
          "name": "stdout",
          "text": [
            "\b\b\b\b\b\b\b\b\b\b\b\b\b\b\b\b\b\b\b\b\b\b\b\b\b\b\b\b\b\b\b\b\b\b\b\b\b\b\b\b\b\b\b\b\b\b\b\b\b\b\b\b\b\b\b\b\b\b\b\b\b\b\b\b\b\b\b\b\b\b\b\b\b\b\b\b\r\u001b[1m122/122\u001b[0m \u001b[32m━━━━━━━━━━━━━━━━━━━━\u001b[0m\u001b[37m\u001b[0m \u001b[1m70s\u001b[0m 575ms/step - accuracy: 0.9452 - loss: 0.1461 - val_accuracy: 0.9179 - val_loss: 0.2042\n",
            "Epoch 6/10\n",
            "\u001b[1m122/122\u001b[0m \u001b[32m━━━━━━━━━━━━━━━━━━━━\u001b[0m\u001b[37m\u001b[0m \u001b[1m81s\u001b[0m 565ms/step - accuracy: 0.9593 - loss: 0.1164 - val_accuracy: 0.9209 - val_loss: 0.2074\n",
            "Epoch 7/10\n",
            "\u001b[1m122/122\u001b[0m \u001b[32m━━━━━━━━━━━━━━━━━━━━\u001b[0m\u001b[37m\u001b[0m \u001b[1m71s\u001b[0m 584ms/step - accuracy: 0.9548 - loss: 0.1257 - val_accuracy: 0.9148 - val_loss: 0.2089\n",
            "Epoch 8/10\n",
            "\u001b[1m122/122\u001b[0m \u001b[32m━━━━━━━━━━━━━━━━━━━━\u001b[0m\u001b[37m\u001b[0m \u001b[1m0s\u001b[0m 441ms/step - accuracy: 0.9611 - loss: 0.1055"
          ]
        },
        {
          "output_type": "stream",
          "name": "stderr",
          "text": [
            "WARNING:absl:You are saving your model as an HDF5 file via `model.save()` or `keras.saving.save_model(model)`. This file format is considered legacy. We recommend using instead the native Keras format, e.g. `model.save('my_model.keras')` or `keras.saving.save_model(model, 'my_model.keras')`. \n"
          ]
        },
        {
          "output_type": "stream",
          "name": "stdout",
          "text": [
            "\b\b\b\b\b\b\b\b\b\b\b\b\b\b\b\b\b\b\b\b\b\b\b\b\b\b\b\b\b\b\b\b\b\b\b\b\b\b\b\b\b\b\b\b\b\b\b\b\b\b\b\b\b\b\b\b\b\b\b\b\b\b\b\b\b\b\b\b\b\b\b\b\b\b\b\b\r\u001b[1m122/122\u001b[0m \u001b[32m━━━━━━━━━━━━━━━━━━━━\u001b[0m\u001b[37m\u001b[0m \u001b[1m69s\u001b[0m 567ms/step - accuracy: 0.9610 - loss: 0.1056 - val_accuracy: 0.9240 - val_loss: 0.2041\n",
            "Epoch 9/10\n",
            "\u001b[1m122/122\u001b[0m \u001b[32m━━━━━━━━━━━━━━━━━━━━\u001b[0m\u001b[37m\u001b[0m \u001b[1m0s\u001b[0m 447ms/step - accuracy: 0.9577 - loss: 0.1065"
          ]
        },
        {
          "output_type": "stream",
          "name": "stderr",
          "text": [
            "WARNING:absl:You are saving your model as an HDF5 file via `model.save()` or `keras.saving.save_model(model)`. This file format is considered legacy. We recommend using instead the native Keras format, e.g. `model.save('my_model.keras')` or `keras.saving.save_model(model, 'my_model.keras')`. \n"
          ]
        },
        {
          "output_type": "stream",
          "name": "stdout",
          "text": [
            "\b\b\b\b\b\b\b\b\b\b\b\b\b\b\b\b\b\b\b\b\b\b\b\b\b\b\b\b\b\b\b\b\b\b\b\b\b\b\b\b\b\b\b\b\b\b\b\b\b\b\b\b\b\b\b\b\b\b\b\b\b\b\b\b\b\b\b\b\b\b\b\b\b\b\b\b\r\u001b[1m122/122\u001b[0m \u001b[32m━━━━━━━━━━━━━━━━━━━━\u001b[0m\u001b[37m\u001b[0m \u001b[1m70s\u001b[0m 574ms/step - accuracy: 0.9577 - loss: 0.1065 - val_accuracy: 0.9261 - val_loss: 0.1966\n",
            "Epoch 10/10\n",
            "\u001b[1m122/122\u001b[0m \u001b[32m━━━━━━━━━━━━━━━━━━━━\u001b[0m\u001b[37m\u001b[0m \u001b[1m70s\u001b[0m 571ms/step - accuracy: 0.9596 - loss: 0.1159 - val_accuracy: 0.9189 - val_loss: 0.2059\n",
            "🔄 Fine-tuning MobileNetV2...\n",
            "Epoch 1/10\n",
            "\u001b[1m122/122\u001b[0m \u001b[32m━━━━━━━━━━━━━━━━━━━━\u001b[0m\u001b[37m\u001b[0m \u001b[1m109s\u001b[0m 704ms/step - accuracy: 0.8821 - loss: 0.3154 - val_accuracy: 0.9240 - val_loss: 0.2171\n",
            "Epoch 2/10\n",
            "\u001b[1m122/122\u001b[0m \u001b[32m━━━━━━━━━━━━━━━━━━━━\u001b[0m\u001b[37m\u001b[0m \u001b[1m0s\u001b[0m 450ms/step - accuracy: 0.9446 - loss: 0.1570"
          ]
        },
        {
          "output_type": "stream",
          "name": "stderr",
          "text": [
            "WARNING:absl:You are saving your model as an HDF5 file via `model.save()` or `keras.saving.save_model(model)`. This file format is considered legacy. We recommend using instead the native Keras format, e.g. `model.save('my_model.keras')` or `keras.saving.save_model(model, 'my_model.keras')`. \n"
          ]
        },
        {
          "output_type": "stream",
          "name": "stdout",
          "text": [
            "\b\b\b\b\b\b\b\b\b\b\b\b\b\b\b\b\b\b\b\b\b\b\b\b\b\b\b\b\b\b\b\b\b\b\b\b\b\b\b\b\b\b\b\b\b\b\b\b\b\b\b\b\b\b\b\b\b\b\b\b\b\b\b\b\b\b\b\b\b\b\b\b\b\b\b\b\r\u001b[1m122/122\u001b[0m \u001b[32m━━━━━━━━━━━━━━━━━━━━\u001b[0m\u001b[37m\u001b[0m \u001b[1m70s\u001b[0m 576ms/step - accuracy: 0.9447 - loss: 0.1568 - val_accuracy: 0.9343 - val_loss: 0.1929\n",
            "Epoch 3/10\n",
            "\u001b[1m122/122\u001b[0m \u001b[32m━━━━━━━━━━━━━━━━━━━━\u001b[0m\u001b[37m\u001b[0m \u001b[1m0s\u001b[0m 458ms/step - accuracy: 0.9493 - loss: 0.1356"
          ]
        },
        {
          "output_type": "stream",
          "name": "stderr",
          "text": [
            "WARNING:absl:You are saving your model as an HDF5 file via `model.save()` or `keras.saving.save_model(model)`. This file format is considered legacy. We recommend using instead the native Keras format, e.g. `model.save('my_model.keras')` or `keras.saving.save_model(model, 'my_model.keras')`. \n"
          ]
        },
        {
          "output_type": "stream",
          "name": "stdout",
          "text": [
            "\b\b\b\b\b\b\b\b\b\b\b\b\b\b\b\b\b\b\b\b\b\b\b\b\b\b\b\b\b\b\b\b\b\b\b\b\b\b\b\b\b\b\b\b\b\b\b\b\b\b\b\b\b\b\b\b\b\b\b\b\b\b\b\b\b\b\b\b\b\b\b\b\b\b\b\b\r\u001b[1m122/122\u001b[0m \u001b[32m━━━━━━━━━━━━━━━━━━━━\u001b[0m\u001b[37m\u001b[0m \u001b[1m71s\u001b[0m 584ms/step - accuracy: 0.9494 - loss: 0.1355 - val_accuracy: 0.9384 - val_loss: 0.1765\n",
            "Epoch 4/10\n",
            "\u001b[1m122/122\u001b[0m \u001b[32m━━━━━━━━━━━━━━━━━━━━\u001b[0m\u001b[37m\u001b[0m \u001b[1m0s\u001b[0m 471ms/step - accuracy: 0.9563 - loss: 0.1134"
          ]
        },
        {
          "output_type": "stream",
          "name": "stderr",
          "text": [
            "WARNING:absl:You are saving your model as an HDF5 file via `model.save()` or `keras.saving.save_model(model)`. This file format is considered legacy. We recommend using instead the native Keras format, e.g. `model.save('my_model.keras')` or `keras.saving.save_model(model, 'my_model.keras')`. \n"
          ]
        },
        {
          "output_type": "stream",
          "name": "stdout",
          "text": [
            "\b\b\b\b\b\b\b\b\b\b\b\b\b\b\b\b\b\b\b\b\b\b\b\b\b\b\b\b\b\b\b\b\b\b\b\b\b\b\b\b\b\b\b\b\b\b\b\b\b\b\b\b\b\b\b\b\b\b\b\b\b\b\b\b\b\b\b\b\b\b\b\b\b\b\b\b\r\u001b[1m122/122\u001b[0m \u001b[32m━━━━━━━━━━━━━━━━━━━━\u001b[0m\u001b[37m\u001b[0m \u001b[1m73s\u001b[0m 597ms/step - accuracy: 0.9563 - loss: 0.1134 - val_accuracy: 0.9425 - val_loss: 0.1696\n",
            "Epoch 5/10\n",
            "\u001b[1m122/122\u001b[0m \u001b[32m━━━━━━━━━━━━━━━━━━━━\u001b[0m\u001b[37m\u001b[0m \u001b[1m70s\u001b[0m 572ms/step - accuracy: 0.9644 - loss: 0.0960 - val_accuracy: 0.9394 - val_loss: 0.1786\n",
            "Epoch 6/10\n",
            "\u001b[1m122/122\u001b[0m \u001b[32m━━━━━━━━━━━━━━━━━━━━\u001b[0m\u001b[37m\u001b[0m \u001b[1m0s\u001b[0m 450ms/step - accuracy: 0.9675 - loss: 0.0919"
          ]
        },
        {
          "output_type": "stream",
          "name": "stderr",
          "text": [
            "WARNING:absl:You are saving your model as an HDF5 file via `model.save()` or `keras.saving.save_model(model)`. This file format is considered legacy. We recommend using instead the native Keras format, e.g. `model.save('my_model.keras')` or `keras.saving.save_model(model, 'my_model.keras')`. \n"
          ]
        },
        {
          "output_type": "stream",
          "name": "stdout",
          "text": [
            "\b\b\b\b\b\b\b\b\b\b\b\b\b\b\b\b\b\b\b\b\b\b\b\b\b\b\b\b\b\b\b\b\b\b\b\b\b\b\b\b\b\b\b\b\b\b\b\b\b\b\b\b\b\b\b\b\b\b\b\b\b\b\b\b\b\b\b\b\b\b\b\b\b\b\b\b\r\u001b[1m122/122\u001b[0m \u001b[32m━━━━━━━━━━━━━━━━━━━━\u001b[0m\u001b[37m\u001b[0m \u001b[1m70s\u001b[0m 576ms/step - accuracy: 0.9675 - loss: 0.0919 - val_accuracy: 0.9517 - val_loss: 0.1584\n",
            "Epoch 7/10\n",
            "\u001b[1m122/122\u001b[0m \u001b[32m━━━━━━━━━━━━━━━━━━━━\u001b[0m\u001b[37m\u001b[0m \u001b[1m71s\u001b[0m 580ms/step - accuracy: 0.9701 - loss: 0.0783 - val_accuracy: 0.9425 - val_loss: 0.1743\n",
            "Epoch 8/10\n",
            "\u001b[1m122/122\u001b[0m \u001b[32m━━━━━━━━━━━━━━━━━━━━\u001b[0m\u001b[37m\u001b[0m \u001b[1m0s\u001b[0m 474ms/step - accuracy: 0.9708 - loss: 0.0800"
          ]
        },
        {
          "output_type": "stream",
          "name": "stderr",
          "text": [
            "WARNING:absl:You are saving your model as an HDF5 file via `model.save()` or `keras.saving.save_model(model)`. This file format is considered legacy. We recommend using instead the native Keras format, e.g. `model.save('my_model.keras')` or `keras.saving.save_model(model, 'my_model.keras')`. \n"
          ]
        },
        {
          "output_type": "stream",
          "name": "stdout",
          "text": [
            "\b\b\b\b\b\b\b\b\b\b\b\b\b\b\b\b\b\b\b\b\b\b\b\b\b\b\b\b\b\b\b\b\b\b\b\b\b\b\b\b\b\b\b\b\b\b\b\b\b\b\b\b\b\b\b\b\b\b\b\b\b\b\b\b\b\b\b\b\b\b\b\b\b\b\b\b\r\u001b[1m122/122\u001b[0m \u001b[32m━━━━━━━━━━━━━━━━━━━━\u001b[0m\u001b[37m\u001b[0m \u001b[1m73s\u001b[0m 601ms/step - accuracy: 0.9708 - loss: 0.0800 - val_accuracy: 0.9507 - val_loss: 0.1527\n",
            "Epoch 9/10\n",
            "\u001b[1m122/122\u001b[0m \u001b[32m━━━━━━━━━━━━━━━━━━━━\u001b[0m\u001b[37m\u001b[0m \u001b[1m70s\u001b[0m 574ms/step - accuracy: 0.9749 - loss: 0.0767 - val_accuracy: 0.9528 - val_loss: 0.1640\n",
            "Epoch 10/10\n",
            "\u001b[1m122/122\u001b[0m \u001b[32m━━━━━━━━━━━━━━━━━━━━\u001b[0m\u001b[37m\u001b[0m \u001b[1m71s\u001b[0m 586ms/step - accuracy: 0.9781 - loss: 0.0565 - val_accuracy: 0.9538 - val_loss: 0.1595\n"
          ]
        }
      ]
    },
    {
      "cell_type": "code",
      "source": [
        "# === Predictions ===\n",
        "Y_pred = model.predict(test_generator, verbose=1)\n",
        "y_pred = np.argmax(Y_pred, axis=1)\n",
        "y_true = test_generator.classes\n",
        "class_names = list(test_generator.class_indices.keys())\n",
        "\n",
        "# === Confusion Matrix Plot ===\n",
        "cm = confusion_matrix(y_true, y_pred)\n",
        "plt.figure(figsize=(6, 5))\n",
        "sns.heatmap(pd.DataFrame(cm, index=class_names, columns=class_names),\n",
        "            annot=True, fmt='d', cmap='Blues')\n",
        "plt.title('Confusion Matrix')\n",
        "plt.ylabel('Actual Label')\n",
        "plt.xlabel('Predicted Label')\n",
        "plt.show()\n",
        "\n",
        "# === Classification Report ===\n",
        "report = classification_report(y_true, y_pred, target_names=class_names, digits=4)\n",
        "print(\"\\n📋 Classification Report\")\n",
        "print(report)\n",
        "\n",
        "# === Metrics Summary ===\n",
        "acc = accuracy_score(y_true, y_pred)\n",
        "prec = precision_score(y_true, y_pred, average='macro')\n",
        "rec = recall_score(y_true, y_pred, average='macro')\n",
        "f1 = f1_score(y_true, y_pred, average='macro')\n",
        "\n",
        "print(\"\\n✅ Evaluation Summary\")\n",
        "print(f\"Accuracy       : {acc:.4f}\")\n",
        "print(f\"Precision (avg): {prec:.4f}\")\n",
        "print(f\"Recall    (avg): {rec:.4f}\")\n",
        "print(f\"F1-score  (avg): {f1:.4f}\")\n",
        "\n"
      ],
      "metadata": {
        "colab": {
          "base_uri": "https://localhost:8080/",
          "height": 815
        },
        "id": "5jm9skpSfb4W",
        "outputId": "b0b12959-6780-42ae-a21b-8060b794fb6c"
      },
      "execution_count": 7,
      "outputs": [
        {
          "output_type": "stream",
          "name": "stdout",
          "text": [
            "\u001b[1m50/50\u001b[0m \u001b[32m━━━━━━━━━━━━━━━━━━━━\u001b[0m\u001b[37m\u001b[0m \u001b[1m5s\u001b[0m 15ms/step\n"
          ]
        },
        {
          "output_type": "display_data",
          "data": {
            "text/plain": [
              "<Figure size 600x500 with 2 Axes>"
            ],
            "image/png": "[encoded data removed]"
          },
          "metadata": {}
        },
        {
          "output_type": "stream",
          "name": "stdout",
          "text": [
            "\n",
            "📋 Classification Report\n",
            "              precision    recall  f1-score   support\n",
            "\n",
            "        Fire     0.9259    1.0000    0.9615        25\n",
            "    Non_Fire     1.0000    0.9200    0.9583        25\n",
            "\n",
            "    accuracy                         0.9600        50\n",
            "   macro avg     0.9630    0.9600    0.9599        50\n",
            "weighted avg     0.9630    0.9600    0.9599        50\n",
            "\n",
            "\n",
            "✅ Evaluation Summary\n",
            "Accuracy       : 0.9600\n",
            "Precision (avg): 0.9630\n",
            "Recall    (avg): 0.9600\n",
            "F1-score  (avg): 0.9599\n"
          ]
        }
      ]
    },
    {
      "cell_type": "code",
      "source": [
        "# === Plot Accuracy and Loss ===\n",
        "plt.figure(figsize=(12, 5))\n",
        "\n",
        "# Combine both histories\n",
        "def combine_histories(h1, h2, key):\n",
        "    return h1.history[key] + h2.history[key]\n",
        "\n",
        "plt.subplot(1, 2, 1)\n",
        "plt.plot(combine_histories(history1, history2, 'accuracy'), label='Train Accuracy')\n",
        "plt.plot(combine_histories(history1, history2, 'val_accuracy'), label='Val Accuracy')\n",
        "plt.title('Model Accuracy')\n",
        "plt.legend()\n",
        "\n",
        "plt.subplot(1, 2, 2)\n",
        "plt.plot(combine_histories(history1, history2, 'loss'), label='Train Loss')\n",
        "plt.plot(combine_histories(history1, history2, 'val_loss'), label='Val Loss')\n",
        "plt.title('Model Loss')\n",
        "plt.legend()\n",
        "\n",
        "plt.show()\n"
      ],
      "metadata": {
        "colab": {
          "base_uri": "https://localhost:8080/",
          "height": 468
        },
        "id": "4xurCeN6fePu",
        "outputId": "7b910349-6a35-497f-ebaf-4de7472c8272"
      },
      "execution_count": 8,
      "outputs": [
        {
          "output_type": "display_data",
          "data": {
            "text/plain": [
              "<Figure size 1200x500 with 2 Axes>"
            ],
            "image/png": "[encoded data removed]"
          },
          "metadata": {}
        }
      ]
    },
    {
      "cell_type": "code",
      "source": [
        "# Save model (recommended format)\n",
        "model.save('/content/drive/MyDrive/UAV_MobileNetV2_Fire.keras')\n",
        "\n",
        "# Save classification report\n",
        "with open('/content/drive/MyDrive/fire_model_report.txt', 'w') as f:\n",
        "    f.write(\"Classification Report:\\n\")\n",
        "    f.write(report)\n",
        "    f.write(f\"\\nAccuracy: {acc:.4f}\")\n",
        "    f.write(f\"\\nPrecision: {prec:.4f}\")\n",
        "    f.write(f\"\\nRecall: {rec:.4f}\")\n",
        "    f.write(f\"\\nF1-score: {f1:.4f}\")\n"
      ],
      "metadata": {
        "id": "xOQ7aTcmfmd4"
      },
      "execution_count": 10,
      "outputs": []
    }
  ]
}